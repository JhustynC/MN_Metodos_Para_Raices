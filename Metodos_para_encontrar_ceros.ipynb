{
  "nbformat": 4,
  "nbformat_minor": 0,
  "metadata": {
    "colab": {
      "provenance": []
    },
    "kernelspec": {
      "name": "python3",
      "display_name": "Python 3"
    },
    "language_info": {
      "name": "python"
    }
  },
  "cells": [
    {
      "cell_type": "markdown",
      "source": [
        "# Trabajo 1 - Metodo Biseccion \n",
        "\n",
        "## Integrantes: Patricia Cajas & Jhustyn Carvajal\n"
      ],
      "metadata": {
        "id": "syJaHlv2r6PG"
      }
    },
    {
      "cell_type": "code",
      "execution_count": null,
      "metadata": {
        "id": "wItuvAjy-iDW"
      },
      "outputs": [],
      "source": [
        "from sympy import * \n",
        "import numpy as np\n",
        "import matplotlib.pyplot as plt"
      ]
    },
    {
      "cell_type": "code",
      "source": [
        "x, y = symbols('x y')"
      ],
      "metadata": {
        "id": "Cc4LtB-M71iG"
      },
      "execution_count": null,
      "outputs": []
    },
    {
      "cell_type": "code",
      "source": [
        "punto_medio = lambda a,b: (a+b)/2"
      ],
      "metadata": {
        "id": "PG1A6RP1_CIj"
      },
      "execution_count": null,
      "outputs": []
    },
    {
      "cell_type": "code",
      "source": [
        "def error_aproximado(aproxAct:int, aproxAnt:int):\n",
        "  return abs((aproxAct - aproxAnt)/aproxAct) * 100"
      ],
      "metadata": {
        "id": "fv3EmD7ZGYQ9"
      },
      "execution_count": null,
      "outputs": []
    },
    {
      "cell_type": "code",
      "source": [
        "def biseccion(f,a,b,t,ea):\n",
        "  \n",
        "  print(\"\")\n",
        "  print(\"{:^60}\".format(\"Metodo de Bisección\"))\n",
        "  print(\"{:^10} {:^10} {:^10} {:^10} {:^10}\".format (\"i\" ,\"a\",\"b\",\"c\",\"ea(%)\"))\n",
        "  \n",
        "  i = 0\n",
        "  while ea > t:\n",
        "\n",
        "    i += 1\n",
        "    c = punto_medio(a,b)\n",
        "    ea = error_aproximado(a,b)\n",
        "    evalua = f(a)*f(c)\n",
        "\n",
        "    if evalua < 0:\n",
        "      b = c\n",
        "    elif evalua > 0:\n",
        "      a = c\n",
        "    else:\n",
        "      return c\n",
        "\n",
        "    #Valores de la Tabla \n",
        "    print(\"{:^10} {:^10f} {:^10f} {:^10f} {:^10}\".format (i,a,b,c,round(ea,9)))\n",
        "  return c"
      ],
      "metadata": {
        "id": "R3LaIDi1PNQ0"
      },
      "execution_count": null,
      "outputs": []
    },
    {
      "cell_type": "code",
      "source": [
        "#Ingreso de la Función\n",
        "fs = sympify(input(\"ingrese la funcion en terminos de x:\"))\n",
        "f = lambdify(x, fs) #Transfarmamos a una expresion simbolica y que podamos evaluar\n",
        "\n",
        "a = int(input(\"ingrese el X0:\")) #Ingreso del limite inferior\n",
        "b = int(input(\"ingrese el X1:\")) #Ingreso del limite superior\n",
        "ea = 1 #Error aproximado inicializado en 1\n",
        "t = 0.1 #Tolerancia del error\n",
        "\n",
        "if(f(a) * f(b) < 0): # Verificamos si en el intervalo esta la raiz \n",
        "  \n",
        "  point = biseccion(f,a,b,t,ea)#Calculamos el aproximado de la reis con Bisección\n",
        "\n",
        "  #Grafica de la funcion y punto\n",
        "  xpts = np.linspace(-10,10) #Array de valores, para la grafica\n",
        "  plt.plot(xpts, f(xpts))\n",
        "  plt.title(\"Grafica de la Funcion\")\n",
        "  plt.grid(True, which='both')\n",
        "  plt.scatter(point,0,c=\"red\")\n",
        "  plt.xlabel(\"x\")\n",
        "  plt.ylabel(\"f(x)\")\n",
        "  plt.axvline(color=\"black\")\n",
        "  plt.axhline(color=\"black\")\n",
        "  plt.ylim([-5,5])\n",
        "  plt.show()\n",
        "  #-----------------------------\n",
        "\n",
        "else: # En caso de que la raiz no esta en el intervalo dado\n",
        "  \n",
        "  print(\"Ingrese un nuevo intervalo\")\n",
        "\n",
        "  #Grafica de la funcion y punto\n",
        "  xpts = np.linspace(-10,10, num=100) #Array de valores, para la grafica\n",
        "  plt.plot(xpts, f(xpts))\n",
        "  plt.title(\"Sugerencia desde la Grafica de la Funcion\")\n",
        "  plt.grid(True, which='both')\n",
        "  plt.axvline(color=\"black\")\n",
        "  plt.axhline(color=\"black\")\n",
        "  plt.scatter(punto_medio(a,b),0,c=\"red\")\n",
        "  plt.xlabel(\"x\")\n",
        "  plt.ylabel(\"f(x)\")\n",
        "  plt.ylim([-5,5])\n",
        "  plt.show()\n",
        "  #-----------------------------x"
      ],
      "metadata": {
        "id": "Nw8TiadtG1Ya",
        "colab": {
          "base_uri": "https://localhost:8080/",
          "height": 767
        },
        "outputId": "f03c4c03-2267-4dc1-ee5a-ac0ab4b47358"
      },
      "execution_count": null,
      "outputs": [
        {
          "output_type": "stream",
          "name": "stdout",
          "text": [
            "ingrese la funcion en terminos de x:x^2 - 2\n",
            "ingrese el X0:1\n",
            "ingrese el X1:2\n",
            "\n",
            "                    Metodo de Bisección                     \n",
            "    i          a          b          c        ea(%)   \n",
            "    1       1.000000   1.500000   1.500000    100.0   \n",
            "    2       1.250000   1.500000   1.250000     50.0   \n",
            "    3       1.375000   1.500000   1.375000     20.0   \n",
            "    4       1.375000   1.437500   1.437500  9.090909091\n",
            "    5       1.406250   1.437500   1.406250  4.545454545\n",
            "    6       1.406250   1.421875   1.421875  2.222222222\n",
            "    7       1.414062   1.421875   1.414062  1.111111111\n",
            "    8       1.414062   1.417969   1.417969  0.552486188\n",
            "    9       1.414062   1.416016   1.416016  0.276243094\n",
            "    10      1.414062   1.415039   1.415039  0.138121547\n",
            "    11      1.414062   1.414551   1.414551  0.069060773\n"
          ]
        },
        {
          "output_type": "display_data",
          "data": {
            "text/plain": [
              "<Figure size 640x480 with 1 Axes>"
            ],
            "image/png": "[encoded data removed]"
          },
          "metadata": {}
        }
      ]
    },
    {
      "cell_type": "markdown",
      "source": [],
      "metadata": {
        "id": "U7dx4bsIVezH"
      }
    },
    {
      "cell_type": "markdown",
      "source": [
        "# Trabajo 2 - Punto Fijo\n",
        "\n",
        "## Integrantes: Patricia Cajas & Jhustyn Carvajal"
      ],
      "metadata": {
        "id": "JN9fuRnlVjG6"
      }
    },
    {
      "cell_type": "code",
      "source": [
        "from sympy import * \n",
        "import numpy as np\n",
        "import matplotlib.pyplot as plt"
      ],
      "metadata": {
        "id": "VenniQvDgZcH"
      },
      "execution_count": null,
      "outputs": []
    },
    {
      "cell_type": "code",
      "source": [
        "x, y = symbols('x y')"
      ],
      "metadata": {
        "id": "2dUyw5U5ggkZ"
      },
      "execution_count": null,
      "outputs": []
    },
    {
      "cell_type": "code",
      "source": [
        "def error_aproximado(aproxAct:int, aproxAnt:int):\n",
        "  return abs((aproxAct - aproxAnt)/aproxAct) * 100"
      ],
      "metadata": {
        "id": "jMKehw71tico"
      },
      "execution_count": null,
      "outputs": []
    },
    {
      "cell_type": "code",
      "source": [
        "#Ingreso de la Función\n",
        "fs = sympify(input(\"ingrese la funcion en terminos de x:\"))\n",
        "f = lambdify(x, fs) #Transfarmamos a una expresion simbolica y que podamos evaluar"
      ],
      "metadata": {
        "id": "box7mxHHgizn"
      },
      "execution_count": null,
      "outputs": []
    },
    {
      "cell_type": "code",
      "source": [
        "solve(exp(-x) - x) #Encontrano los ceros de la funcion "
      ],
      "metadata": {
        "colab": {
          "base_uri": "https://localhost:8080/"
        },
        "id": "7eBbhsk38tfF",
        "outputId": "afa270fe-51ba-41a6-ac4e-17ffe07b0c0b"
      },
      "execution_count": null,
      "outputs": [
        {
          "output_type": "execute_result",
          "data": {
            "text/plain": [
              "[LambertW(1)]"
            ]
          },
          "metadata": {},
          "execution_count": 132
        }
      ]
    },
    {
      "cell_type": "code",
      "source": [
        "#Valor real de la raiz (Lo usaremos para calcular el Error Relativo Porcentual Verdadero = et)\n",
        "vr = LambertW(1).evalf()\n",
        "vr"
      ],
      "metadata": {
        "colab": {
          "base_uri": "https://localhost:8080/",
          "height": 37
        },
        "id": "CgfurqHu94rt",
        "outputId": "65a50df8-9d2b-4e62-89a9-a69c1f314d5d"
      },
      "execution_count": null,
      "outputs": [
        {
          "output_type": "execute_result",
          "data": {
            "text/plain": [
              "0.567143290409784"
            ],
            "text/latex": "$\\displaystyle 0.567143290409784$"
          },
          "metadata": {},
          "execution_count": 7
        }
      ]
    },
    {
      "cell_type": "code",
      "source": [
        "x0 = 0\n",
        "tolerancia = 0.1\n",
        "iteraciones = 100\n",
        "f = lambdify(x,sympify(\"exp(-x)\")) #trabajo la funcion algebraicamente \n",
        "\n",
        "def punto_fijo(f,x0,t,ite):\n",
        "  xn = 0\n",
        "  ea = 0\n",
        "  erpv = 0\n",
        "  print(\"{:^3} {:^10} {:^10} {:^5}\".format(\"i\",\"xn\",\"ea(%)\",\"et(%)\"))\n",
        "  for i in range(0,ite):\n",
        "    xn = f(x0)\n",
        "    ea = error_aproximado(xn,x0)\n",
        "    if i > 0:\n",
        "      if(ea < t):    \n",
        "        print(\"{:^3.0f} {:^11f} {:^2.2f} {:^11.2f}\".format(i+1,xn,ea,erpv)) #Se imprime para daber en que iteracion se cumple la tolerancia\n",
        "        \n",
        "        #Grafica de la funcion y punto\n",
        "        print(\"\")\n",
        "        xpts = np.linspace(-5,5) #Array de valores, para la grafica\n",
        "        plt.plot(xpts, lambdify(x,sympify(\"exp(-x) - x\"))(xpts))\n",
        "        plt.title(\"Grafica de la Funcion\")\n",
        "        plt.grid(True, which='both')\n",
        "        plt.scatter(xn,0,c=\"red\")\n",
        "        plt.xlabel(\"x\")\n",
        "        plt.ylabel(\"f(x)\")\n",
        "        plt.axvline(color=\"black\")\n",
        "        plt.axhline(color=\"black\")\n",
        "        plt.ylim([-3,3])\n",
        "        plt.show()\n",
        "        #-----------------------------\n",
        "        return xn\n",
        "    print(\"{:^3.0f} {:^11f} {:^2.2f} {:^11.2f}\".format(i+1,xn,ea,erpv))\n",
        "    x0 = xn\n",
        "    erpv = abs(round(vr - xn,10)*100)\n",
        "\n",
        "  #Grafica de la funcion y punto\n",
        "  print(\"\")\n",
        "  xpts = np.linspace(-5,5) #Array de valores, para la grafica\n",
        "  plt.plot(xpts, lambdify(x,sympify(\"exp(-x) - x\"))(xpts))\n",
        "  plt.title(\"Grafica de la Funcion\")\n",
        "  plt.grid(True, which='both')\n",
        "  plt.scatter(xn,0,c=\"red\")\n",
        "  plt.xlabel(\"x\")\n",
        "  plt.ylabel(\"f(x)\")\n",
        "  plt.axvline(color=\"black\")\n",
        "  plt.axhline(color=\"black\")\n",
        "  plt.ylim([-3,3])\n",
        "  plt.show()\n",
        "  #-----------------------------\n",
        "\n",
        "valorRaiz = punto_fijo(f,x0,tolerancia,100)\n",
        "print(\"\\nEl valor de la raiz con una toleracion de {} es: {:^11f}\".format(tolerancia,valorRaiz))"
      ],
      "metadata": {
        "colab": {
          "base_uri": "https://localhost:8080/",
          "height": 802
        },
        "id": "nGEDsAqUhNuZ",
        "outputId": "8626e08b-c0d3-42ca-a4cb-7e78d4a4e150"
      },
      "execution_count": null,
      "outputs": [
        {
          "output_type": "stream",
          "name": "stdout",
          "text": [
            " i      xn       ea(%)    et(%)\n",
            " 1   1.000000   100.00    0.00    \n",
            " 2   0.367879   171.83    43.29   \n",
            " 3   0.692201   46.85    19.93   \n",
            " 4   0.500474   38.31    12.51   \n",
            " 5   0.606244   17.45    6.67    \n",
            " 6   0.545396   11.16    3.91    \n",
            " 7   0.579612   5.90    2.17    \n",
            " 8   0.560115   3.48    1.25    \n",
            " 9   0.571143   1.93    0.70    \n",
            "10   0.564879   1.11    0.40    \n",
            "11   0.568429   0.62    0.23    \n",
            "12   0.566415   0.36    0.13    \n",
            "13   0.567557   0.20    0.07    \n",
            "14   0.566909   0.11    0.04    \n",
            "15   0.567276   0.06    0.02    \n",
            "\n"
          ]
        },
        {
          "output_type": "display_data",
          "data": {
            "text/plain": [
              "<Figure size 640x480 with 1 Axes>"
            ],
            "image/png": "[encoded data removed]"
          },
          "metadata": {}
        },
        {
          "output_type": "stream",
          "name": "stdout",
          "text": [
            "\n",
            "El valor de la raiz con una toleracion de 0.1 es:  0.567276  \n"
          ]
        }
      ]
    },
    {
      "cell_type": "markdown",
      "source": [
        "# Trabajo 3 - Newton-Raphson\n",
        "\n",
        "## Integrantes: Patricia Cajas & Jhustyn Carvajal"
      ],
      "metadata": {
        "id": "Tiha4T6e5ZRB"
      }
    },
    {
      "cell_type": "code",
      "source": [
        "from sympy import * \n",
        "import numpy as np\n",
        "import matplotlib.pyplot as plt"
      ],
      "metadata": {
        "id": "zBWm18X3zljs"
      },
      "execution_count": null,
      "outputs": []
    },
    {
      "cell_type": "code",
      "source": [
        "x, y = symbols('x y')"
      ],
      "metadata": {
        "id": "E6trpXi_0g7l"
      },
      "execution_count": null,
      "outputs": []
    },
    {
      "cell_type": "code",
      "source": [
        "fs = sympify(\"e^-x - x\")\n",
        "f = lambdify(x, fs) #Transfarmamos"
      ],
      "metadata": {
        "id": "mAPipT6NiDBZ"
      },
      "execution_count": null,
      "outputs": []
    },
    {
      "cell_type": "code",
      "source": [
        "c = solve(f(x))"
      ],
      "metadata": {
        "id": "yyFfXoHv76Sq"
      },
      "execution_count": null,
      "outputs": []
    },
    {
      "cell_type": "code",
      "source": [
        "f = sympify(\"x^3 - x - 1\")\n",
        "df = sympify(diff(f,x))\n",
        "f = lambdify(x,f)\n",
        "df = lambdify(x,df)\n",
        "f(x)"
      ],
      "metadata": {
        "id": "pf38Ils86VWx",
        "colab": {
          "base_uri": "https://localhost:8080/",
          "height": 38
        },
        "outputId": "17300352-2d87-4fee-c25a-4b40c39e5c53"
      },
      "execution_count": null,
      "outputs": [
        {
          "output_type": "execute_result",
          "data": {
            "text/plain": [
              "x**3 - x - 1"
            ],
            "text/latex": "$\\displaystyle x^{3} - x - 1$"
          },
          "metadata": {},
          "execution_count": 11
        }
      ]
    },
    {
      "cell_type": "code",
      "source": [
        "iteraciones = 30\n",
        "x0 = 0\n",
        "xs = x0 - (f(x0)/df(x0))\n",
        "xs"
      ],
      "metadata": {
        "colab": {
          "base_uri": "https://localhost:8080/"
        },
        "id": "BSEFTYqs5L3O",
        "outputId": "e24f0021-e9a2-4cb1-8dda-bda3212975f4"
      },
      "execution_count": null,
      "outputs": [
        {
          "output_type": "execute_result",
          "data": {
            "text/plain": [
              "-1.0"
            ]
          },
          "metadata": {},
          "execution_count": 14
        }
      ]
    },
    {
      "cell_type": "code",
      "source": [
        "for i in range(0,iteraciones):\n",
        "  xs = x0 - (f(x0)/df(x0))\n",
        "  print(xs)\n",
        "  x0 = xs"
      ],
      "metadata": {
        "id": "2VMzylVP08Dt",
        "colab": {
          "base_uri": "https://localhost:8080/"
        },
        "outputId": "51e8dbcc-03ce-449b-920c-8fb150d454f4"
      },
      "execution_count": null,
      "outputs": [
        {
          "output_type": "stream",
          "name": "stdout",
          "text": [
            "-1.0\n",
            "-0.5\n",
            "-3.0\n",
            "-2.0384615384615383\n",
            "-1.3902821472167362\n",
            "-0.911611897717927\n",
            "-0.34502849674816916\n",
            "-1.4277507040272703\n",
            "-0.9424179125094829\n",
            "-0.40494935719937963\n",
            "-1.7069046451828516\n",
            "-1.1557563610748134\n",
            "-0.6941918133295469\n",
            "0.7424942987207009\n",
            "2.7812959406776083\n",
            "1.9827252470438306\n",
            "1.5369273797582563\n",
            "1.3572624831877325\n",
            "1.3256630944288679\n",
            "1.3247187886152572\n",
            "1.3247179572453902\n",
            "1.324717957244746\n",
            "1.324717957244746\n",
            "1.324717957244746\n",
            "1.324717957244746\n",
            "1.324717957244746\n",
            "1.324717957244746\n",
            "1.324717957244746\n",
            "1.324717957244746\n",
            "1.324717957244746\n"
          ]
        }
      ]
    }
  ]
}